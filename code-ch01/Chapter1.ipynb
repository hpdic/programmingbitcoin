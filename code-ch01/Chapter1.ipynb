{
 "cells": [
  {
   "cell_type": "code",
   "execution_count": 25,
   "metadata": {},
   "outputs": [],
   "source": [
    "############## PLEASE RUN THIS CELL FIRST! ###################\n",
    "\n",
    "# import everything and define a test runner function\n",
    "from importlib import reload\n",
    "from helper import run\n",
    "import ecc\n",
    "import helper\n",
    "\n",
    "from ecc import FieldElement"
   ]
  },
  {
   "cell_type": "code",
   "execution_count": 26,
   "metadata": {},
   "outputs": [
    {
     "name": "stdout",
     "output_type": "stream",
     "text": [
      "False\n",
      "True\n"
     ]
    }
   ],
   "source": [
    "from ecc import FieldElement\n",
    "a = FieldElement(7, 13)\n",
    "b = FieldElement(6, 13)\n",
    "print(a == b)\n",
    "print(a == a)"
   ]
  },
  {
   "cell_type": "markdown",
   "metadata": {},
   "source": [
    "### Exercise 1\n",
    "\n",
    "Write the corresponding method `__ne__` which checks if two `FieldElement` objects are _not equal_ to each other.\n",
    "\n",
    "#### Make [this test](/edit/code-ch01/ecc.py) pass: `ecc.py:FieldElementTest:test_ne`"
   ]
  },
  {
   "cell_type": "code",
   "execution_count": 16,
   "metadata": {},
   "outputs": [
    {
     "name": "stderr",
     "output_type": "stream",
     "text": [
      ".\n",
      "----------------------------------------------------------------------\n",
      "Ran 1 test in 0.002s\n",
      "\n",
      "OK\n"
     ]
    }
   ],
   "source": [
    "# Exercise 1\n",
    "\n",
    "reload(ecc)\n",
    "run(ecc.FieldElementTest(\"test_ne\"))"
   ]
  },
  {
   "cell_type": "code",
   "execution_count": 17,
   "metadata": {},
   "outputs": [
    {
     "name": "stdout",
     "output_type": "stream",
     "text": [
      "1\n"
     ]
    }
   ],
   "source": [
    "print(7 % 3)"
   ]
  },
  {
   "cell_type": "code",
   "execution_count": 18,
   "metadata": {},
   "outputs": [
    {
     "name": "stdout",
     "output_type": "stream",
     "text": [
      "12\n"
     ]
    }
   ],
   "source": [
    "print(-27 % 13)"
   ]
  },
  {
   "cell_type": "markdown",
   "metadata": {},
   "source": [
    "### Exercise 2\n",
    "\n",
    "Solve these problems in \\\\(F_{57}\\\\) (assume all +'s here are \\\\(+_{f}\\\\) and -`s here \\\\(-_{f}\\\\))\n",
    "\n",
    "* 44+33\n",
    "* 9-29\n",
    "* 17+42+49\n",
    "* 52-30-38"
   ]
  },
  {
   "cell_type": "code",
   "execution_count": 1,
   "metadata": {},
   "outputs": [
    {
     "name": "stdout",
     "output_type": "stream",
     "text": [
      "20\n"
     ]
    }
   ],
   "source": [
    "# Exercise 2\n",
    "\n",
    "# remember that % is the modulo operator\n",
    "prime = 57\n",
    "# 44+33\n",
    "print((44+33)%prime)\n",
    "# 9-29\n",
    "# 17+42+49\n",
    "# 52-30-38"
   ]
  },
  {
   "cell_type": "code",
   "execution_count": 20,
   "metadata": {},
   "outputs": [
    {
     "name": "stdout",
     "output_type": "stream",
     "text": [
      "True\n"
     ]
    }
   ],
   "source": [
    "from ecc import FieldElement\n",
    "a = FieldElement(7, 13)\n",
    "b = FieldElement(12, 13)\n",
    "c = FieldElement(6, 13)\n",
    "print(a+b==c)"
   ]
  },
  {
   "cell_type": "markdown",
   "metadata": {},
   "source": [
    "### Exercise 3\n",
    "\n",
    "Write the corresponding `__sub__` method which defines the subtraction of two `FieldElement` objects.\n",
    "\n",
    "#### Make [this test](/edit/code-ch01/ecc.py) pass: `ecc.py:FieldElementTest:test_sub`"
   ]
  },
  {
   "cell_type": "code",
   "execution_count": 21,
   "metadata": {},
   "outputs": [
    {
     "name": "stderr",
     "output_type": "stream",
     "text": [
      "E\n",
      "======================================================================\n",
      "ERROR: test_sub (ecc.FieldElementTest)\n",
      "----------------------------------------------------------------------\n",
      "Traceback (most recent call last):\n",
      "  File \"/home/dongfang/github/programmingbitcoin/code-ch01/ecc.py\", line 92, in test_sub\n",
      "    self.assertEqual(a - b, FieldElement(25, 31))\n",
      "  File \"/home/dongfang/github/programmingbitcoin/code-ch01/ecc.py\", line 43, in __sub__\n",
      "    raise NotImplementedError\n",
      "NotImplementedError\n",
      "\n",
      "----------------------------------------------------------------------\n",
      "Ran 1 test in 0.002s\n",
      "\n",
      "FAILED (errors=1)\n"
     ]
    }
   ],
   "source": [
    "# Exercise 3\n",
    "\n",
    "reload(ecc)\n",
    "run(ecc.FieldElementTest(\"test_sub\"))"
   ]
  },
  {
   "cell_type": "markdown",
   "metadata": {},
   "source": [
    "### Exercise 4\n",
    "\n",
    "Solve the following equations in \\\\(F_{97}\\\\) (again, assume ⋅ and exponentiation are field versions):\n",
    "\n",
    "* 95⋅45⋅31\n",
    "* 17⋅13⋅19⋅44\n",
    "* \\\\(12^{7}\\\\)⋅\\\\(77^{49}\\\\)"
   ]
  },
  {
   "cell_type": "code",
   "execution_count": 22,
   "metadata": {},
   "outputs": [],
   "source": [
    "# Exercise 4\n",
    "\n",
    "prime = 97\n",
    "\n",
    "# 95*45*31\n",
    "# 17*13*19*44\n",
    "# 12**7*77**49"
   ]
  },
  {
   "cell_type": "markdown",
   "metadata": {},
   "source": [
    "### Exercise 5\n",
    "\n",
    "For k = 1, 3, 7, 13, 18, what is this set in \\\\(F_{19}\\\\)?\n",
    "\n",
    "{k⋅0, k⋅1, k⋅2, k⋅3, ... k⋅18}\n",
    "\n",
    "Do you notice anything about these sets?"
   ]
  },
  {
   "cell_type": "code",
   "execution_count": 23,
   "metadata": {},
   "outputs": [],
   "source": [
    "# Exercise 5\n",
    "\n",
    "prime = 19\n",
    "k = 1  # 3, 7, 13 and 18 are the other possibilities\n",
    "# loop through all possible k's 0 up to prime-1\n",
    "# calculate k*iterator % prime\n",
    "\n",
    "# Hint - sort!"
   ]
  },
  {
   "cell_type": "code",
   "execution_count": 24,
   "metadata": {},
   "outputs": [
    {
     "ename": "NotImplementedError",
     "evalue": "",
     "output_type": "error",
     "traceback": [
      "\u001b[0;31m---------------------------------------------------------------------------\u001b[0m",
      "\u001b[0;31mNotImplementedError\u001b[0m                       Traceback (most recent call last)",
      "\u001b[1;32m/home/dongfang/github/programmingbitcoin/code-ch01/Chapter1.ipynb Cell 16'\u001b[0m in \u001b[0;36m<cell line: 5>\u001b[0;34m()\u001b[0m\n\u001b[1;32m      <a href='vscode-notebook-cell://wsl%2Bubuntu/home/dongfang/github/programmingbitcoin/code-ch01/Chapter1.ipynb#ch0000015vscode-remote?line=2'>3</a>\u001b[0m b \u001b[39m=\u001b[39m FieldElement(\u001b[39m12\u001b[39m, \u001b[39m13\u001b[39m)\n\u001b[1;32m      <a href='vscode-notebook-cell://wsl%2Bubuntu/home/dongfang/github/programmingbitcoin/code-ch01/Chapter1.ipynb#ch0000015vscode-remote?line=3'>4</a>\u001b[0m c \u001b[39m=\u001b[39m FieldElement(\u001b[39m10\u001b[39m, \u001b[39m13\u001b[39m)\n\u001b[0;32m----> <a href='vscode-notebook-cell://wsl%2Bubuntu/home/dongfang/github/programmingbitcoin/code-ch01/Chapter1.ipynb#ch0000015vscode-remote?line=4'>5</a>\u001b[0m \u001b[39mprint\u001b[39m(a\u001b[39m*\u001b[39;49mb\u001b[39m==\u001b[39mc)\n",
      "File \u001b[0;32m~/github/programmingbitcoin/code-ch01/ecc.py:51\u001b[0m, in \u001b[0;36mFieldElement.__mul__\u001b[0;34m(self, other)\u001b[0m\n\u001b[1;32m     <a href='file:///home/dongfang/github/programmingbitcoin/code-ch01/ecc.py?line=46'>47</a>\u001b[0m     \u001b[39mraise\u001b[39;00m \u001b[39mTypeError\u001b[39;00m(\u001b[39m'\u001b[39m\u001b[39mCannot multiply two numbers in different Fields\u001b[39m\u001b[39m'\u001b[39m)\n\u001b[1;32m     <a href='file:///home/dongfang/github/programmingbitcoin/code-ch01/ecc.py?line=47'>48</a>\u001b[0m \u001b[39m# self.num and other.num are the actual values\u001b[39;00m\n\u001b[1;32m     <a href='file:///home/dongfang/github/programmingbitcoin/code-ch01/ecc.py?line=48'>49</a>\u001b[0m \u001b[39m# self.prime is what we need to mod against\u001b[39;00m\n\u001b[1;32m     <a href='file:///home/dongfang/github/programmingbitcoin/code-ch01/ecc.py?line=49'>50</a>\u001b[0m \u001b[39m# We return an element of the same class\u001b[39;00m\n\u001b[0;32m---> <a href='file:///home/dongfang/github/programmingbitcoin/code-ch01/ecc.py?line=50'>51</a>\u001b[0m \u001b[39mraise\u001b[39;00m \u001b[39mNotImplementedError\u001b[39;00m\n",
      "\u001b[0;31mNotImplementedError\u001b[0m: "
     ]
    }
   ],
   "source": [
    "from ecc import FieldElement\n",
    "a = FieldElement(3, 13)\n",
    "b = FieldElement(12, 13)\n",
    "c = FieldElement(10, 13)\n",
    "print(a*b==c)"
   ]
  },
  {
   "cell_type": "markdown",
   "metadata": {},
   "source": [
    "### Exercise 6\n",
    "\n",
    "Write the corresponding `__mul__` method which defines the multiplication of two Finite Field elements.\n",
    "\n",
    "#### Make [this test](/edit/code-ch01/ecc.py) pass: `ecc.py:FieldElementTest:test_mul`"
   ]
  },
  {
   "cell_type": "code",
   "execution_count": null,
   "metadata": {},
   "outputs": [],
   "source": [
    "# Exercise 6\n",
    "\n",
    "reload(ecc)\n",
    "run(ecc.FieldElementTest(\"test_mul\"))"
   ]
  },
  {
   "cell_type": "code",
   "execution_count": null,
   "metadata": {},
   "outputs": [],
   "source": [
    "from ecc import FieldElement\n",
    "a = FieldElement(3, 13)\n",
    "b = FieldElement(1, 13)\n",
    "print(a**3==b)"
   ]
  },
  {
   "cell_type": "markdown",
   "metadata": {},
   "source": [
    "### Exercise 7\n",
    "\n",
    "For p = 7, 11, 17, 31, what is this set in \\\\(F_{p}\\\\)?\n",
    "\n",
    "{\\\\(1^{(p-1)}\\\\), \\\\(2^{(p-1)}\\\\), \\\\(3^{(p-1)}\\\\), \\\\(4^{(p-1)}\\\\), ... \\\\((p-1)^{(p-1)}\\\\)}"
   ]
  },
  {
   "cell_type": "code",
   "execution_count": null,
   "metadata": {},
   "outputs": [],
   "source": [
    "# Exercise 7\n",
    "\n",
    "primes = [7, 11, 17, 31, 43]"
   ]
  },
  {
   "cell_type": "markdown",
   "metadata": {},
   "source": [
    "### Exercise 8\n",
    "\n",
    "Solve the following equations in \\\\(F_{31}\\\\):\n",
    "\n",
    "* 3 / 24\n",
    "* \\\\(17^{-3}\\\\)\n",
    "* \\\\(4^{-4}\\\\)⋅11"
   ]
  },
  {
   "cell_type": "code",
   "execution_count": null,
   "metadata": {},
   "outputs": [],
   "source": [
    "# Exercise 8\n",
    "\n",
    "# 3/24\n",
    "# 17**-3\n",
    "# 4**-4*11"
   ]
  },
  {
   "cell_type": "markdown",
   "metadata": {},
   "source": [
    "### Exercise 9\n",
    "\n",
    "Write the corresponding `__truediv__` method which defines the division of two field elements.\n",
    "\n",
    "Note that in Python3, division is separated into `__truediv__` and `__floordiv__`. The first does normal division, the second does integer division.\n",
    "\n",
    "#### Make [this test](/edit/code-ch01/ecc.py) pass: `ecc.py:FieldElementTest:test_div`"
   ]
  },
  {
   "cell_type": "code",
   "execution_count": null,
   "metadata": {},
   "outputs": [],
   "source": [
    "# Exercise 9\n",
    "\n",
    "reload(ecc)\n",
    "run(ecc.FieldElementTest(\"test_div\"))"
   ]
  },
  {
   "cell_type": "code",
   "execution_count": null,
   "metadata": {},
   "outputs": [],
   "source": [
    "from ecc import FieldElement\n",
    "a = FieldElement(7, 13)\n",
    "b = FieldElement(8, 13)\n",
    "print(a**-3==b)"
   ]
  }
 ],
 "metadata": {
  "kernelspec": {
   "display_name": "Python 3",
   "language": "python",
   "name": "python3"
  },
  "language_info": {
   "codemirror_mode": {
    "name": "ipython",
    "version": 3
   },
   "file_extension": ".py",
   "mimetype": "text/x-python",
   "name": "python",
   "nbconvert_exporter": "python",
   "pygments_lexer": "ipython3",
   "version": "3.8.8"
  },
  "vscode": {
   "interpreter": {
    "hash": "a24d3fc94dbfa62b8729a70f7b5d8bd1ce69d75f1f00ace933e09a9d54f7d14d"
   }
  }
 },
 "nbformat": 4,
 "nbformat_minor": 2
}
